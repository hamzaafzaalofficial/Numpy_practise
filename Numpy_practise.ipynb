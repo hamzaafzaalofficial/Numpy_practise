{
 "cells": [
  {
   "cell_type": "markdown",
   "id": "0f9f6bf1",
   "metadata": {},
   "source": [
    "Importing numpy library and aliasing it as np"
   ]
  },
  {
   "cell_type": "code",
   "execution_count": 2,
   "id": "5e902c23",
   "metadata": {},
   "outputs": [],
   "source": [
    "import numpy as np"
   ]
  },
  {
   "cell_type": "markdown",
   "id": "d88a05b6",
   "metadata": {},
   "source": [
    "Creating a numpy array: "
   ]
  },
  {
   "cell_type": "code",
   "execution_count": 37,
   "id": "751b71d2",
   "metadata": {},
   "outputs": [
    {
     "name": "stdout",
     "output_type": "stream",
     "text": [
      "['ants' 'snake' 'leopard' 'lion' 'cat' 'dog' 'zebra']\n"
     ]
    }
   ],
   "source": [
    "my_first_array= np.array([\"ants\",\"snake\",\"leopard\",\"lion\",\"cat\",\"dog\",\"zebra\"])\n",
    "print(my_first_array)"
   ]
  },
  {
   "cell_type": "markdown",
   "id": "bea5d556",
   "metadata": {},
   "source": [
    "Access elements in my_first_array:"
   ]
  },
  {
   "cell_type": "code",
   "execution_count": 38,
   "id": "76fa5e0a",
   "metadata": {},
   "outputs": [
    {
     "data": {
      "text/plain": [
       "array(['ants', 'leopard', 'cat', 'zebra'], dtype='<U7')"
      ]
     },
     "execution_count": 38,
     "metadata": {},
     "output_type": "execute_result"
    }
   ],
   "source": [
    "# if i want to access my last element individually in my_first_array:\n",
    "my_first_array[3]\n",
    "\n",
    "# if i want to access all elements in my_first_array: \n",
    "my_first_array[:-1]\n",
    "\n",
    "# accessing from 2nd to last element: \n",
    "my_first_array[1:4]\n",
    "\n",
    "# accessing the elements step wise:\n",
    "my_first_array[0::2]\n",
    "\n"
   ]
  },
  {
   "cell_type": "markdown",
   "id": "a8b194a4",
   "metadata": {},
   "source": [
    "Detecting the type of array: "
   ]
  },
  {
   "cell_type": "code",
   "execution_count": 46,
   "id": "c0f3eb43",
   "metadata": {},
   "outputs": [
    {
     "data": {
      "text/plain": [
       "dtype('<U7')"
      ]
     },
     "execution_count": 46,
     "metadata": {},
     "output_type": "execute_result"
    }
   ],
   "source": [
    "my_first_array.dtype\n"
   ]
  },
  {
   "cell_type": "markdown",
   "id": "d82d447b",
   "metadata": {},
   "source": [
    "Creating Multi-Dimensional Arrays:\n"
   ]
  },
  {
   "cell_type": "code",
   "execution_count": 69,
   "id": "ce843d31",
   "metadata": {},
   "outputs": [],
   "source": [
    "my_two_dim_arrays= np.array([[1,2,3],\n",
    "                            [4,5,6] ])\n",
    "\n"
   ]
  },
  {
   "cell_type": "markdown",
   "id": "7b57dda1",
   "metadata": {},
   "source": [
    "checking the dimensions of my_two_dim_arrays:"
   ]
  },
  {
   "cell_type": "code",
   "execution_count": 73,
   "id": "5ecc2914",
   "metadata": {},
   "outputs": [
    {
     "name": "stdout",
     "output_type": "stream",
     "text": [
      "(2, 3)\n",
      "6\n"
     ]
    }
   ],
   "source": [
    "print(my_two_dim_arrays.shape)\n",
    "print(my_two_dim_arrays.size)"
   ]
  },
  {
   "cell_type": "markdown",
   "id": "20e2cde1",
   "metadata": {},
   "source": [
    "Creating a three dimensional array: "
   ]
  },
  {
   "cell_type": "code",
   "execution_count": 83,
   "id": "de14a45e",
   "metadata": {},
   "outputs": [
    {
     "data": {
      "text/plain": [
       "(2, 2, 3)"
      ]
     },
     "execution_count": 83,
     "metadata": {},
     "output_type": "execute_result"
    }
   ],
   "source": [
    "B = np.array([\n",
    "    [\n",
    "        [12, 11, 10],\n",
    "        [9, 8, 7],\n",
    "    ],\n",
    "    [\n",
    "        [6, 5, 4],\n",
    "        [3, 2, 1]\n",
    "    ]\n",
    "])\n",
    "B.shape"
   ]
  },
  {
   "cell_type": "markdown",
   "id": "d6b64b05",
   "metadata": {},
   "source": [
    "Indexing and slicing of matrices: "
   ]
  },
  {
   "cell_type": "code",
   "execution_count": 85,
   "id": "f21556be",
   "metadata": {},
   "outputs": [],
   "source": [
    "# Square matrix\n",
    "my_square_matrix = np.array([\n",
    "#.   0. 1. 2\n",
    "    [1, 2, 3], # 0\n",
    "    [4, 5, 6], # 1\n",
    "    [7, 8, 9]  # 2\n",
    "])\n"
   ]
  },
  {
   "cell_type": "code",
   "execution_count": 92,
   "id": "1d290b32",
   "metadata": {},
   "outputs": [
    {
     "name": "stdout",
     "output_type": "stream",
     "text": [
      "[1 2 3]\n",
      "[4 5 6]\n",
      "[7 8 9]\n",
      "5\n",
      "[[1 2 3]\n",
      " [4 5 6]\n",
      " [7 8 9]]\n"
     ]
    }
   ],
   "source": [
    "# now in order to access full row or column or a specific element:\n",
    "\n",
    "print(my_square_matrix[0])\n",
    "print(my_square_matrix[1])\n",
    "print(my_square_matrix[2])\n",
    "print(my_square_matrix[1,1])\n",
    "print(my_square_matrix[0:3])"
   ]
  },
  {
   "cell_type": "markdown",
   "id": "3d87222b",
   "metadata": {},
   "source": [
    "Statistics Functions: "
   ]
  },
  {
   "cell_type": "code",
   "execution_count": 96,
   "id": "2fbecdee",
   "metadata": {},
   "outputs": [
    {
     "name": "stdout",
     "output_type": "stream",
     "text": [
      "10\n",
      "2.5\n"
     ]
    }
   ],
   "source": [
    "# creating an array:\n",
    "my_unique_array= np.array([1,2,3,4])\n",
    "# adding all values of an array:\n",
    "print(my_unique_array.sum())\n",
    "print(my_unique_array.mean())\n"
   ]
  },
  {
   "cell_type": "markdown",
   "id": "13f6abae",
   "metadata": {},
   "source": [
    "NUMPY FUNCTIONS: \n"
   ]
  },
  {
   "cell_type": "code",
   "execution_count": 134,
   "id": "97af95c2",
   "metadata": {},
   "outputs": [
    {
     "name": "stdout",
     "output_type": "stream",
     "text": [
      "[0.12367445 0.59032596]\n",
      "[-1.10997739  1.82520862]\n",
      "[[0.8988743  0.8236932  0.07403819 0.06584962]\n",
      " [0.67124804 0.80984554 0.94613012 0.29268694]]\n",
      "[[53 72 74]\n",
      " [32 42 93]\n",
      " [62 35 71]]\n",
      "[ 0  1  2  3  4  5  6  7  8  9 10 11 12 13 14 15 16 17 18 19 20 21 22 23\n",
      " 24 25 26 27 28 29 30 31 32 33 34 35 36 37 38 39 40 41 42 43 44 45 46 47\n",
      " 48 49 50 51 52 53 54 55 56 57 58 59 60 61 62 63 64 65 66 67 68 69 70 71\n",
      " 72 73 74 75 76 77 78 79 80 81 82 83 84 85 86 87 88 89 90 91 92 93 94 95\n",
      " 96 97 98 99]\n",
      "[0.  0.1 0.2 0.3 0.4 0.5 0.6 0.7 0.8 0.9]\n",
      "[[0 1 2 3 4]\n",
      " [5 6 7 8 9]]\n",
      "[0. 0. 0. 0. 0.]\n",
      "[[0. 0. 0.]\n",
      " [0. 0. 0.]\n",
      " [0. 0. 0.]]\n",
      "[[1. 1. 1.]\n",
      " [1. 1. 1.]\n",
      " [1. 1. 1.]]\n"
     ]
    }
   ],
   "source": [
    "#random function\n",
    "\n",
    "#the first function random, with size 2 generate a 2 values function from 0-1 range \n",
    "my_array_1= np.random.random(size=2)\n",
    "print(my_array_1)\n",
    "\n",
    "#normal function\n",
    "\n",
    "#the normal function with size 2 generate a 2 value function from \n",
    "my_array_2= np.random.normal(size=2)\n",
    "print(my_array_2)\n",
    "\n",
    "#in order to generate the array with 2 rows and 4 columns from range of 0-1 range\n",
    "my_array_3= np.random.rand(2,4)\n",
    "print(my_array_3)\n",
    "\n",
    "#in order to generate the array with 3 rows, 3 columns with random values from 0 to 100\n",
    "my_array_4= np.random.randint(100,size=(3,3))\n",
    "print(my_array_4)\n",
    "\n",
    "\n",
    "#range functions: \n",
    "#creating a one dimensional array with values from 0 to 10(excluding)\n",
    "my_array_4= np.arange(100)\n",
    "print(my_array_4)\n",
    "\n",
    "#create a array starting from 0 with increment 0.1 until reaches 1 \n",
    "my_array_5= np.arange(0,1,0.1)\n",
    "print(my_array_5)\n",
    "\n",
    "\n",
    "#reshape functions:\n",
    "#create an array of 1 dimension from 0 to 10, then reshape it into 2 rows and 5 columns using reshape function()\n",
    "my_array_6= np.arange(10).reshape(2,5)\n",
    "print(my_array_6) \n",
    "\n",
    "\n",
    "\n",
    "#zeros,ones,empty functions \n",
    "#generate 1D array with 5 zeros \n",
    "my_array_7= np.zeros(5)\n",
    "print(my_array_7)\n",
    "\n",
    "#generate 2D array with 3 rows and 3 columns:\n",
    "my_array_8= np.zeros((3,3))\n",
    "print(my_array_8)\n",
    "\n",
    "#generate 2D array with 3 rows and 3 columns:\n",
    "my_array_9= np.ones((3,3))\n",
    "print(my_array_9)"
   ]
  },
  {
   "cell_type": "code",
   "execution_count": null,
   "id": "97eee34b",
   "metadata": {},
   "outputs": [],
   "source": []
  },
  {
   "cell_type": "code",
   "execution_count": null,
   "id": "51de3439",
   "metadata": {},
   "outputs": [],
   "source": []
  }
 ],
 "metadata": {
  "kernelspec": {
   "display_name": "Python 3 (ipykernel)",
   "language": "python",
   "name": "python3"
  },
  "language_info": {
   "codemirror_mode": {
    "name": "ipython",
    "version": 3
   },
   "file_extension": ".py",
   "mimetype": "text/x-python",
   "name": "python",
   "nbconvert_exporter": "python",
   "pygments_lexer": "ipython3",
   "version": "3.11.5"
  }
 },
 "nbformat": 4,
 "nbformat_minor": 5
}
